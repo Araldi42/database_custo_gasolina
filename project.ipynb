{
 "cells": [
  {
   "cell_type": "code",
   "execution_count": 2,
   "metadata": {},
   "outputs": [],
   "source": [
    "import pandas as pd\n",
    "import selenium\n",
    "import csv\n",
    "import requests\n",
    "import traceback\n",
    "import sys,os\n",
    "import warnings\n",
    "warnings.simplefilter(action='ignore', category=FutureWarning)\n",
    "import psycopg2\n",
    "import numpy as np\n",
    "import psycopg2.extras as extras\n",
    "from io import StringIO\n"
   ]
  },
  {
   "attachments": {},
   "cell_type": "markdown",
   "metadata": {},
   "source": [
    "STEPS:\n",
    "1 - Gerar requests dos arquivos a serem baixados (Extract - Depois específicar método que foi utilizado para obter as URLS no portfólio) \n",
    "2 - Executar Tratamento (append nas datas ignorandos os headers - Analisar se os headers são constantes)\n",
    "3 - gerar Análise do CSV tratado (Load)\n",
    "4 - Montagem do BI com os dados com kpis que são relevantes"
   ]
  },
  {
   "cell_type": "code",
   "execution_count": 3,
   "metadata": {},
   "outputs": [],
   "source": [
    "#Á análise consta apenas anos de 2010 à 2021\n",
    "#criando lista de urls a serem baixadas\n",
    "\n",
    "url_list = []\n",
    "for i in range(10,22):\n",
    "    \n",
    "    a = 'https://www.gov.br/anp/pt-br/centrais-de-conteudo/dados-abertos/arquivos/shpc/dsas/ca/ca-20'+str(i)+'-01.csv'\n",
    "    url_list.append(a)\n",
    "    b = 'https://www.gov.br/anp/pt-br/centrais-de-conteudo/dados-abertos/arquivos/shpc/dsas/ca/ca-20'+str(i)+'-02.csv'\n",
    "    url_list.append(b)\n",
    "       \n",
    "    "
   ]
  },
  {
   "cell_type": "code",
   "execution_count": 9,
   "metadata": {},
   "outputs": [
    {
     "name": "stdout",
     "output_type": "stream",
     "text": [
      "iniciando processo da url https://www.gov.br/anp/pt-br/centrais-de-conteudo/dados-abertos/arquivos/shpc/dsas/ca/ca-2010-01.csv\n",
      "Csv de tamanho 628516\n",
      "sucesso na url https://www.gov.br/anp/pt-br/centrais-de-conteudo/dados-abertos/arquivos/shpc/dsas/ca/ca-2010-01.csv\n",
      "iniciando processo da url https://www.gov.br/anp/pt-br/centrais-de-conteudo/dados-abertos/arquivos/shpc/dsas/ca/ca-2010-02.csv\n",
      "Csv de tamanho 645339\n",
      "sucesso na url https://www.gov.br/anp/pt-br/centrais-de-conteudo/dados-abertos/arquivos/shpc/dsas/ca/ca-2010-02.csv\n",
      "iniciando processo da url https://www.gov.br/anp/pt-br/centrais-de-conteudo/dados-abertos/arquivos/shpc/dsas/ca/ca-2011-01.csv\n",
      "Csv de tamanho 649693\n",
      "sucesso na url https://www.gov.br/anp/pt-br/centrais-de-conteudo/dados-abertos/arquivos/shpc/dsas/ca/ca-2011-01.csv\n",
      "iniciando processo da url https://www.gov.br/anp/pt-br/centrais-de-conteudo/dados-abertos/arquivos/shpc/dsas/ca/ca-2011-02.csv\n",
      "Csv de tamanho 20468\n",
      "sucesso na url https://www.gov.br/anp/pt-br/centrais-de-conteudo/dados-abertos/arquivos/shpc/dsas/ca/ca-2011-02.csv\n",
      "iniciando processo da url https://www.gov.br/anp/pt-br/centrais-de-conteudo/dados-abertos/arquivos/shpc/dsas/ca/ca-2012-01.csv\n",
      "Csv de tamanho 143842\n",
      "sucesso na url https://www.gov.br/anp/pt-br/centrais-de-conteudo/dados-abertos/arquivos/shpc/dsas/ca/ca-2012-01.csv\n",
      "iniciando processo da url https://www.gov.br/anp/pt-br/centrais-de-conteudo/dados-abertos/arquivos/shpc/dsas/ca/ca-2012-02.csv\n",
      "Csv de tamanho 144457\n",
      "sucesso na url https://www.gov.br/anp/pt-br/centrais-de-conteudo/dados-abertos/arquivos/shpc/dsas/ca/ca-2012-02.csv\n",
      "iniciando processo da url https://www.gov.br/anp/pt-br/centrais-de-conteudo/dados-abertos/arquivos/shpc/dsas/ca/ca-2013-01.csv\n",
      "Csv de tamanho 181210\n",
      "sucesso na url https://www.gov.br/anp/pt-br/centrais-de-conteudo/dados-abertos/arquivos/shpc/dsas/ca/ca-2013-01.csv\n",
      "iniciando processo da url https://www.gov.br/anp/pt-br/centrais-de-conteudo/dados-abertos/arquivos/shpc/dsas/ca/ca-2013-02.csv\n",
      "Csv de tamanho 74680\n",
      "sucesso na url https://www.gov.br/anp/pt-br/centrais-de-conteudo/dados-abertos/arquivos/shpc/dsas/ca/ca-2013-02.csv\n",
      "iniciando processo da url https://www.gov.br/anp/pt-br/centrais-de-conteudo/dados-abertos/arquivos/shpc/dsas/ca/ca-2014-01.csv\n",
      "<class '_csv.Error'> 1530390843.py 16\n",
      "problema na urlhttps://www.gov.br/anp/pt-br/centrais-de-conteudo/dados-abertos/arquivos/shpc/dsas/ca/ca-2014-01.csv\n",
      "iniciando processo da url https://www.gov.br/anp/pt-br/centrais-de-conteudo/dados-abertos/arquivos/shpc/dsas/ca/ca-2014-02.csv\n",
      "Csv de tamanho 175590\n",
      "sucesso na url https://www.gov.br/anp/pt-br/centrais-de-conteudo/dados-abertos/arquivos/shpc/dsas/ca/ca-2014-02.csv\n",
      "iniciando processo da url https://www.gov.br/anp/pt-br/centrais-de-conteudo/dados-abertos/arquivos/shpc/dsas/ca/ca-2015-01.csv\n",
      "Csv de tamanho 696774\n",
      "sucesso na url https://www.gov.br/anp/pt-br/centrais-de-conteudo/dados-abertos/arquivos/shpc/dsas/ca/ca-2015-01.csv\n",
      "iniciando processo da url https://www.gov.br/anp/pt-br/centrais-de-conteudo/dados-abertos/arquivos/shpc/dsas/ca/ca-2015-02.csv\n",
      "Csv de tamanho 195011\n",
      "sucesso na url https://www.gov.br/anp/pt-br/centrais-de-conteudo/dados-abertos/arquivos/shpc/dsas/ca/ca-2015-02.csv\n",
      "iniciando processo da url https://www.gov.br/anp/pt-br/centrais-de-conteudo/dados-abertos/arquivos/shpc/dsas/ca/ca-2016-01.csv\n",
      "Csv de tamanho 486897\n",
      "sucesso na url https://www.gov.br/anp/pt-br/centrais-de-conteudo/dados-abertos/arquivos/shpc/dsas/ca/ca-2016-01.csv\n",
      "iniciando processo da url https://www.gov.br/anp/pt-br/centrais-de-conteudo/dados-abertos/arquivos/shpc/dsas/ca/ca-2016-02.csv\n",
      "Csv de tamanho 488960\n",
      "sucesso na url https://www.gov.br/anp/pt-br/centrais-de-conteudo/dados-abertos/arquivos/shpc/dsas/ca/ca-2016-02.csv\n",
      "iniciando processo da url https://www.gov.br/anp/pt-br/centrais-de-conteudo/dados-abertos/arquivos/shpc/dsas/ca/ca-2017-01.csv\n",
      "Csv de tamanho 487659\n",
      "sucesso na url https://www.gov.br/anp/pt-br/centrais-de-conteudo/dados-abertos/arquivos/shpc/dsas/ca/ca-2017-01.csv\n",
      "iniciando processo da url https://www.gov.br/anp/pt-br/centrais-de-conteudo/dados-abertos/arquivos/shpc/dsas/ca/ca-2017-02.csv\n",
      "Csv de tamanho 300947\n",
      "sucesso na url https://www.gov.br/anp/pt-br/centrais-de-conteudo/dados-abertos/arquivos/shpc/dsas/ca/ca-2017-02.csv\n",
      "iniciando processo da url https://www.gov.br/anp/pt-br/centrais-de-conteudo/dados-abertos/arquivos/shpc/dsas/ca/ca-2018-01.csv\n",
      "Csv de tamanho 469833\n",
      "sucesso na url https://www.gov.br/anp/pt-br/centrais-de-conteudo/dados-abertos/arquivos/shpc/dsas/ca/ca-2018-01.csv\n",
      "iniciando processo da url https://www.gov.br/anp/pt-br/centrais-de-conteudo/dados-abertos/arquivos/shpc/dsas/ca/ca-2018-02.csv\n",
      "Csv de tamanho 493169\n",
      "sucesso na url https://www.gov.br/anp/pt-br/centrais-de-conteudo/dados-abertos/arquivos/shpc/dsas/ca/ca-2018-02.csv\n",
      "iniciando processo da url https://www.gov.br/anp/pt-br/centrais-de-conteudo/dados-abertos/arquivos/shpc/dsas/ca/ca-2019-01.csv\n",
      "Csv de tamanho 7905\n",
      "sucesso na url https://www.gov.br/anp/pt-br/centrais-de-conteudo/dados-abertos/arquivos/shpc/dsas/ca/ca-2019-01.csv\n",
      "iniciando processo da url https://www.gov.br/anp/pt-br/centrais-de-conteudo/dados-abertos/arquivos/shpc/dsas/ca/ca-2019-02.csv\n",
      "Csv de tamanho 72838\n",
      "sucesso na url https://www.gov.br/anp/pt-br/centrais-de-conteudo/dados-abertos/arquivos/shpc/dsas/ca/ca-2019-02.csv\n",
      "iniciando processo da url https://www.gov.br/anp/pt-br/centrais-de-conteudo/dados-abertos/arquivos/shpc/dsas/ca/ca-2020-01.csv\n",
      "Csv de tamanho 144122\n",
      "sucesso na url https://www.gov.br/anp/pt-br/centrais-de-conteudo/dados-abertos/arquivos/shpc/dsas/ca/ca-2020-01.csv\n",
      "iniciando processo da url https://www.gov.br/anp/pt-br/centrais-de-conteudo/dados-abertos/arquivos/shpc/dsas/ca/ca-2020-02.csv\n",
      "Csv de tamanho 222637\n",
      "sucesso na url https://www.gov.br/anp/pt-br/centrais-de-conteudo/dados-abertos/arquivos/shpc/dsas/ca/ca-2020-02.csv\n",
      "iniciando processo da url https://www.gov.br/anp/pt-br/centrais-de-conteudo/dados-abertos/arquivos/shpc/dsas/ca/ca-2021-01.csv\n",
      "Csv de tamanho 128116\n",
      "sucesso na url https://www.gov.br/anp/pt-br/centrais-de-conteudo/dados-abertos/arquivos/shpc/dsas/ca/ca-2021-01.csv\n",
      "iniciando processo da url https://www.gov.br/anp/pt-br/centrais-de-conteudo/dados-abertos/arquivos/shpc/dsas/ca/ca-2021-02.csv\n",
      "<class 'UnicodeDecodeError'> 1530390843.py 12\n",
      "problema na urlhttps://www.gov.br/anp/pt-br/centrais-de-conteudo/dados-abertos/arquivos/shpc/dsas/ca/ca-2021-02.csv\n"
     ]
    }
   ],
   "source": [
    "\n",
    "df_res = pd.DataFrame()\n",
    "for ur in url_list:\n",
    "\n",
    "    try:\n",
    "\n",
    "\n",
    "        with requests.Session() as s:\n",
    "            print('iniciando processo da url '+str(ur))\n",
    "            \n",
    "            download = s.get(ur)\n",
    "\n",
    "            decoded_content = download.content.decode('utf-8')\n",
    "\n",
    "            cr = csv.reader(decoded_content.splitlines(), delimiter=';')\n",
    "\n",
    "            my_list = list(cr)\n",
    "\n",
    "            df = pd.DataFrame(my_list)\n",
    "            \n",
    "            df.columns = df.iloc[0]\n",
    "\n",
    "            df = df.iloc[1:] \n",
    "\n",
    "            print('Csv de tamanho '+str(len(df)))\n",
    "\n",
    "            df_res = df_res.append(df)\n",
    "\n",
    "            print('sucesso na url '+str(ur)+'')\n",
    "\n",
    "    except Exception as e:\n",
    "\n",
    "        exc_type, exc_obj, exc_tb = sys.exc_info()\n",
    "\n",
    "        fname = os.path.split(exc_tb.tb_frame.f_code.co_filename)[1]\n",
    "\n",
    "        print(exc_type, fname, exc_tb.tb_lineno)\n",
    "        print('problema na url'+str(ur))\n",
    "        pass\n",
    "        \n"
   ]
  },
  {
   "cell_type": "code",
   "execution_count": 2,
   "metadata": {},
   "outputs": [
    {
     "ename": "NameError",
     "evalue": "name 'df_res' is not defined",
     "output_type": "error",
     "traceback": [
      "\u001b[1;31m---------------------------------------------------------------------------\u001b[0m",
      "\u001b[1;31mNameError\u001b[0m                                 Traceback (most recent call last)",
      "Cell \u001b[1;32mIn[2], line 1\u001b[0m\n\u001b[1;32m----> 1\u001b[0m df_res\u001b[39m.\u001b[39mto_csv(\u001b[39m'\u001b[39m\u001b[39mres_final.csv\u001b[39m\u001b[39m'\u001b[39m)\n",
      "\u001b[1;31mNameError\u001b[0m: name 'df_res' is not defined"
     ]
    }
   ],
   "source": [
    "df_res.to_csv('res_final.csv')"
   ]
  },
  {
   "cell_type": "code",
   "execution_count": 4,
   "metadata": {},
   "outputs": [
    {
     "data": {
      "text/plain": [
       "6947169"
      ]
     },
     "execution_count": 4,
     "metadata": {},
     "output_type": "execute_result"
    }
   ],
   "source": [
    "\n",
    "len(df_res)"
   ]
  },
  {
   "cell_type": "code",
   "execution_count": 3,
   "metadata": {},
   "outputs": [
    {
     "name": "stderr",
     "output_type": "stream",
     "text": [
      "C:\\Users\\arald\\AppData\\Local\\Temp\\ipykernel_22532\\2458343303.py:1: DtypeWarning: Columns (14) have mixed types. Specify dtype option on import or set low_memory=False.\n",
      "  df_res = pd.read_csv('res_final.csv',delimiter=',')\n"
     ]
    }
   ],
   "source": [
    "df_res = pd.read_csv('res_final.csv',delimiter=',')"
   ]
  },
  {
   "cell_type": "code",
   "execution_count": 4,
   "metadata": {},
   "outputs": [],
   "source": [
    "dfy = df_res.copy()\n",
    "dfy.drop(['Unnamed: 0'],axis='columns',inplace=True)"
   ]
  },
  {
   "attachments": {},
   "cell_type": "markdown",
   "metadata": {},
   "source": [
    "Montando tabela no Banco de Dados"
   ]
  },
  {
   "cell_type": "code",
   "execution_count": 40,
   "metadata": {},
   "outputs": [
    {
     "name": "stdout",
     "output_type": "stream",
     "text": [
      "tabela criada com sucesso\n"
     ]
    }
   ],
   "source": [
    "connection = psycopg2.connect(user=\"dbadmin\",\n",
    "                                  password=\"abc123\",\n",
    "                                  host=\"localhost\",\n",
    "                                  port=\"5432\",\n",
    "                                  database=\"postgresDB\")\n",
    "cursor = connection.cursor()\n",
    "\n",
    "postgres_create_query = \"\"\"CREATE TABLE schema_custo.\"dw_custo_gasolina\"(\n",
    "    Regiao text,\n",
    "    Estado text,\n",
    "    Municipio text,\n",
    "    Revenda text,\n",
    "    CNPJ_da_revenda text,\n",
    "    Nome_da_Rua text,\n",
    "    Numero_da_rua text,\n",
    "    Complemento text,\n",
    "    Bairro text,\n",
    "    Cep text,\n",
    "    Produto text,\n",
    "    Data_da_Coleta text,\n",
    "    Valor_de_Venda text,\n",
    "    Valor_de_Compra text,\n",
    "    Unidade_de_Medida text,\n",
    "    Bandeira text\n",
    "    ); \"\"\"\n",
    "cursor.execute(postgres_create_query)\n",
    "connection.commit()\n",
    "print('tabela criada com sucesso')\n",
    "cursor.close()\n",
    "connection.close()\n",
    "\n",
    "\"\"\"Especificar que os tipos das colunas foram usados como texto apenas por facilidade específica no upload do dataframe,\n",
    "    não é uma pratica comum que deve ser seguida pois acaba por se perder em ineficiência a utilização do banco de dados.\n",
    "\"\"\"\n",
    "########## NOTA :  USAR MÉTODO DE ALTER COLUMN TYPE PARA VERIFICAR RESULTADO SE EU CONSIGO RECUPERAR EFICIÊNCIA DA BASE DE DADOS"
   ]
  },
  {
   "cell_type": "code",
   "execution_count": 14,
   "metadata": {},
   "outputs": [
    {
     "data": {
      "text/plain": [
       "0          01/05/2010\n",
       "1          01/05/2010\n",
       "2          01/05/2010\n",
       "3          01/05/2010\n",
       "4          01/04/2010\n",
       "              ...    \n",
       "4681529    28/06/2021\n",
       "4681530    28/06/2021\n",
       "4681531    28/06/2021\n",
       "4681532    28/06/2021\n",
       "4681533    28/06/2021\n",
       "Name: Data da Coleta, Length: 4681534, dtype: object"
      ]
     },
     "execution_count": 14,
     "metadata": {},
     "output_type": "execute_result"
    }
   ],
   "source": [
    "dfy['Data da Coleta'] = pd.to_datetime(dfy['Data da Coleta'],errors= 'coerce')\n",
    "dfy['Data da Coleta'] = dfy['Data da Coleta'].dt.strftime('%d/%m/%Y')\n",
    "dfy['Data da Coleta']"
   ]
  },
  {
   "cell_type": "code",
   "execution_count": 6,
   "metadata": {},
   "outputs": [],
   "source": [
    "dft = dfy.copy()\n"
   ]
  },
  {
   "attachments": {},
   "cell_type": "markdown",
   "metadata": {},
   "source": [
    "Levando os dados para o banco de 1000 em 1000 linhas"
   ]
  },
  {
   "cell_type": "code",
   "execution_count": 41,
   "metadata": {},
   "outputs": [
    {
     "name": "stdout",
     "output_type": "stream",
     "text": [
      "execute_batch() done\n"
     ]
    }
   ],
   "source": [
    "\n",
    "\n",
    "\n",
    "connect = psycopg2.connect(user=\"dbadmin\",\n",
    "                                  password=\"abc123\",\n",
    "                                  host=\"localhost\",\n",
    "                                  port=\"5432\",\n",
    "                                  database=\"postgresDB\")\n",
    "\n",
    "\n",
    "def execute_batch(con, df, table, page_size=1000):\n",
    "    \"\"\"\n",
    "    Using psycopg2.extras.execute_batch() to insert the dataframe\n",
    "    \"\"\"\n",
    "    # Create a list of tupples from the dataframe values\n",
    "    tuples = [tuple(x) for x in df.to_numpy()]\n",
    "    # Comma-separated dataframe columns\n",
    "    cols = ','.join(list(df.columns))\n",
    "    # SQL quert to execute\n",
    "    query  = \"INSERT INTO %s(%s) VALUES(%%s,%%s,%%s,%%s,%%s,%%s,%%s,%%s,%%s,%%s,%%s,%%s,%%s,%%s,%%s,%%s)\" % (table, cols)\n",
    "    cursor = con.cursor()\n",
    "    try:\n",
    "        extras.execute_batch(cursor, query, tuples, page_size)\n",
    "        con.commit()\n",
    "    except (Exception, psycopg2.DatabaseError) as error:\n",
    "        print(\"Error: %s\" % error)\n",
    "        con.rollback()\n",
    "        cursor.close()\n",
    "        return 1\n",
    "    print(\"execute_batch() done\")\n",
    "    cursor.close()\n",
    "\n",
    "dfy = dfy.rename(columns={\n",
    "    \"\\ufeffRegiao\": \"Regiao\",\n",
    "    \"CNPJ da Revenda\": \"cnpj_da_revenda\",\n",
    "    \"Nome da Rua\": \"nome_da_rua\",\n",
    "    \"Numero Rua\": \"numero_da_rua\",\n",
    "    \"Data da Coleta\": \"data_da_coleta\",\n",
    "    \"Valor de Venda\": \"valor_de_venda\",\n",
    "    \"Valor de Compra\": \"valor_de_compra\",\n",
    "    \"Unidade de Medida\": \"unidade_de_medida\"\n",
    "})\n",
    "#O python conhece como float, valores com '.' e como em pt-br nossos valores estão embutidos com ',' irei upar ao banco como string e corrigirei o\n",
    "# problema mais a frente\n",
    "\n",
    "\n",
    "execute_batch(connect,dfy,'schema_custo.dw_custo_gasolina')\n"
   ]
  },
  {
   "cell_type": "code",
   "execution_count": null,
   "metadata": {},
   "outputs": [],
   "source": []
  }
 ],
 "metadata": {
  "kernelspec": {
   "display_name": "base",
   "language": "python",
   "name": "python3"
  },
  "language_info": {
   "codemirror_mode": {
    "name": "ipython",
    "version": 3
   },
   "file_extension": ".py",
   "mimetype": "text/x-python",
   "name": "python",
   "nbconvert_exporter": "python",
   "pygments_lexer": "ipython3",
   "version": "3.9.15 (main, Nov 24 2022, 14:39:17) [MSC v.1916 64 bit (AMD64)]"
  },
  "orig_nbformat": 4,
  "vscode": {
   "interpreter": {
    "hash": "0a60b1ed433cea65e1afe88f818b4931f1045b8675cadc6cccfee5d1ae7d72c1"
   }
  }
 },
 "nbformat": 4,
 "nbformat_minor": 2
}
